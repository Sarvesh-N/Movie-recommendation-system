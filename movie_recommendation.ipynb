{
 "cells": [
  {
   "cell_type": "code",
   "execution_count": 4,
   "id": "74da3b11-c5f5-4d70-89b9-804104b73b94",
   "metadata": {},
   "outputs": [],
   "source": [
    "import pandas as pd\n",
    "import numpy as np"
   ]
  },
  {
   "cell_type": "code",
   "execution_count": 5,
   "id": "1d9002ce-c5d2-4e7d-9989-267c987e9389",
   "metadata": {},
   "outputs": [],
   "source": [
    "credits_df = pd.read_csv(\"dataset/tmdb_5000_credits.csv\")\n",
    "movies_df = pd.read_csv(\"dataset/tmdb_5000_movies.csv\")"
   ]
  },
  {
   "cell_type": "code",
   "execution_count": 6,
   "id": "6dfdc99b-c297-421a-8e5f-d1166570052e",
   "metadata": {},
   "outputs": [
    {
     "data": {
      "text/html": [
       "<div>\n",
       "<style scoped>\n",
       "    .dataframe tbody tr th:only-of-type {\n",
       "        vertical-align: middle;\n",
       "    }\n",
       "\n",
       "    .dataframe tbody tr th {\n",
       "        vertical-align: top;\n",
       "    }\n",
       "\n",
       "    .dataframe thead th {\n",
       "        text-align: right;\n",
       "    }\n",
       "</style>\n",
       "<table border=\"1\" class=\"dataframe\">\n",
       "  <thead>\n",
       "    <tr style=\"text-align: right;\">\n",
       "      <th></th>\n",
       "      <th>budget</th>\n",
       "      <th>genres</th>\n",
       "      <th>homepage</th>\n",
       "      <th>id</th>\n",
       "      <th>keywords</th>\n",
       "      <th>original_language</th>\n",
       "      <th>original_title</th>\n",
       "      <th>overview</th>\n",
       "      <th>popularity</th>\n",
       "      <th>production_companies</th>\n",
       "      <th>production_countries</th>\n",
       "      <th>release_date</th>\n",
       "      <th>revenue</th>\n",
       "      <th>runtime</th>\n",
       "      <th>spoken_languages</th>\n",
       "      <th>status</th>\n",
       "      <th>tagline</th>\n",
       "      <th>title</th>\n",
       "      <th>vote_average</th>\n",
       "      <th>vote_count</th>\n",
       "    </tr>\n",
       "  </thead>\n",
       "  <tbody>\n",
       "    <tr>\n",
       "      <th>0</th>\n",
       "      <td>237000000</td>\n",
       "      <td>[{\"id\": 28, \"name\": \"Action\"}, {\"id\": 12, \"nam...</td>\n",
       "      <td>http://www.avatarmovie.com/</td>\n",
       "      <td>19995</td>\n",
       "      <td>[{\"id\": 1463, \"name\": \"culture clash\"}, {\"id\":...</td>\n",
       "      <td>en</td>\n",
       "      <td>Avatar</td>\n",
       "      <td>In the 22nd century, a paraplegic Marine is di...</td>\n",
       "      <td>150.437577</td>\n",
       "      <td>[{\"name\": \"Ingenious Film Partners\", \"id\": 289...</td>\n",
       "      <td>[{\"iso_3166_1\": \"US\", \"name\": \"United States o...</td>\n",
       "      <td>2009-12-10</td>\n",
       "      <td>2787965087</td>\n",
       "      <td>162.0</td>\n",
       "      <td>[{\"iso_639_1\": \"en\", \"name\": \"English\"}, {\"iso...</td>\n",
       "      <td>Released</td>\n",
       "      <td>Enter the World of Pandora.</td>\n",
       "      <td>Avatar</td>\n",
       "      <td>7.2</td>\n",
       "      <td>11800</td>\n",
       "    </tr>\n",
       "  </tbody>\n",
       "</table>\n",
       "</div>"
      ],
      "text/plain": [
       "      budget                                             genres  \\\n",
       "0  237000000  [{\"id\": 28, \"name\": \"Action\"}, {\"id\": 12, \"nam...   \n",
       "\n",
       "                      homepage     id  \\\n",
       "0  http://www.avatarmovie.com/  19995   \n",
       "\n",
       "                                            keywords original_language  \\\n",
       "0  [{\"id\": 1463, \"name\": \"culture clash\"}, {\"id\":...                en   \n",
       "\n",
       "  original_title                                           overview  \\\n",
       "0         Avatar  In the 22nd century, a paraplegic Marine is di...   \n",
       "\n",
       "   popularity                               production_companies  \\\n",
       "0  150.437577  [{\"name\": \"Ingenious Film Partners\", \"id\": 289...   \n",
       "\n",
       "                                production_countries release_date     revenue  \\\n",
       "0  [{\"iso_3166_1\": \"US\", \"name\": \"United States o...   2009-12-10  2787965087   \n",
       "\n",
       "   runtime                                   spoken_languages    status  \\\n",
       "0    162.0  [{\"iso_639_1\": \"en\", \"name\": \"English\"}, {\"iso...  Released   \n",
       "\n",
       "                       tagline   title  vote_average  vote_count  \n",
       "0  Enter the World of Pandora.  Avatar           7.2       11800  "
      ]
     },
     "execution_count": 6,
     "metadata": {},
     "output_type": "execute_result"
    }
   ],
   "source": [
    "movies_df.head(1)"
   ]
  },
  {
   "cell_type": "code",
   "execution_count": 7,
   "id": "c3b42408-0767-4249-ab20-b884f1bcd153",
   "metadata": {},
   "outputs": [
    {
     "data": {
      "text/html": [
       "<div>\n",
       "<style scoped>\n",
       "    .dataframe tbody tr th:only-of-type {\n",
       "        vertical-align: middle;\n",
       "    }\n",
       "\n",
       "    .dataframe tbody tr th {\n",
       "        vertical-align: top;\n",
       "    }\n",
       "\n",
       "    .dataframe thead th {\n",
       "        text-align: right;\n",
       "    }\n",
       "</style>\n",
       "<table border=\"1\" class=\"dataframe\">\n",
       "  <thead>\n",
       "    <tr style=\"text-align: right;\">\n",
       "      <th></th>\n",
       "      <th>movie_id</th>\n",
       "      <th>title</th>\n",
       "      <th>cast</th>\n",
       "      <th>crew</th>\n",
       "    </tr>\n",
       "  </thead>\n",
       "  <tbody>\n",
       "    <tr>\n",
       "      <th>0</th>\n",
       "      <td>19995</td>\n",
       "      <td>Avatar</td>\n",
       "      <td>[{\"cast_id\": 242, \"character\": \"Jake Sully\", \"...</td>\n",
       "      <td>[{\"credit_id\": \"52fe48009251416c750aca23\", \"de...</td>\n",
       "    </tr>\n",
       "  </tbody>\n",
       "</table>\n",
       "</div>"
      ],
      "text/plain": [
       "   movie_id   title                                               cast  \\\n",
       "0     19995  Avatar  [{\"cast_id\": 242, \"character\": \"Jake Sully\", \"...   \n",
       "\n",
       "                                                crew  \n",
       "0  [{\"credit_id\": \"52fe48009251416c750aca23\", \"de...  "
      ]
     },
     "execution_count": 7,
     "metadata": {},
     "output_type": "execute_result"
    }
   ],
   "source": [
    "credits_df.head(1)"
   ]
  },
  {
   "cell_type": "code",
   "execution_count": 8,
   "id": "f16d94fe-65af-46d2-81b4-25da3349bc18",
   "metadata": {},
   "outputs": [],
   "source": [
    "merged_df = pd.merge(credits_df, movies_df, left_on= \"movie_id\", right_on=\"id\")"
   ]
  },
  {
   "cell_type": "code",
   "execution_count": 9,
   "id": "2d077aef-d69a-4c1b-bacc-afc10907c82a",
   "metadata": {},
   "outputs": [
    {
     "data": {
      "text/html": [
       "<div>\n",
       "<style scoped>\n",
       "    .dataframe tbody tr th:only-of-type {\n",
       "        vertical-align: middle;\n",
       "    }\n",
       "\n",
       "    .dataframe tbody tr th {\n",
       "        vertical-align: top;\n",
       "    }\n",
       "\n",
       "    .dataframe thead th {\n",
       "        text-align: right;\n",
       "    }\n",
       "</style>\n",
       "<table border=\"1\" class=\"dataframe\">\n",
       "  <thead>\n",
       "    <tr style=\"text-align: right;\">\n",
       "      <th></th>\n",
       "      <th>movie_id</th>\n",
       "      <th>title_x</th>\n",
       "      <th>cast</th>\n",
       "      <th>crew</th>\n",
       "      <th>budget</th>\n",
       "      <th>genres</th>\n",
       "      <th>homepage</th>\n",
       "      <th>id</th>\n",
       "      <th>keywords</th>\n",
       "      <th>original_language</th>\n",
       "      <th>...</th>\n",
       "      <th>production_countries</th>\n",
       "      <th>release_date</th>\n",
       "      <th>revenue</th>\n",
       "      <th>runtime</th>\n",
       "      <th>spoken_languages</th>\n",
       "      <th>status</th>\n",
       "      <th>tagline</th>\n",
       "      <th>title_y</th>\n",
       "      <th>vote_average</th>\n",
       "      <th>vote_count</th>\n",
       "    </tr>\n",
       "  </thead>\n",
       "  <tbody>\n",
       "    <tr>\n",
       "      <th>0</th>\n",
       "      <td>19995</td>\n",
       "      <td>Avatar</td>\n",
       "      <td>[{\"cast_id\": 242, \"character\": \"Jake Sully\", \"...</td>\n",
       "      <td>[{\"credit_id\": \"52fe48009251416c750aca23\", \"de...</td>\n",
       "      <td>237000000</td>\n",
       "      <td>[{\"id\": 28, \"name\": \"Action\"}, {\"id\": 12, \"nam...</td>\n",
       "      <td>http://www.avatarmovie.com/</td>\n",
       "      <td>19995</td>\n",
       "      <td>[{\"id\": 1463, \"name\": \"culture clash\"}, {\"id\":...</td>\n",
       "      <td>en</td>\n",
       "      <td>...</td>\n",
       "      <td>[{\"iso_3166_1\": \"US\", \"name\": \"United States o...</td>\n",
       "      <td>2009-12-10</td>\n",
       "      <td>2787965087</td>\n",
       "      <td>162.0</td>\n",
       "      <td>[{\"iso_639_1\": \"en\", \"name\": \"English\"}, {\"iso...</td>\n",
       "      <td>Released</td>\n",
       "      <td>Enter the World of Pandora.</td>\n",
       "      <td>Avatar</td>\n",
       "      <td>7.2</td>\n",
       "      <td>11800</td>\n",
       "    </tr>\n",
       "  </tbody>\n",
       "</table>\n",
       "<p>1 rows × 24 columns</p>\n",
       "</div>"
      ],
      "text/plain": [
       "   movie_id title_x                                               cast  \\\n",
       "0     19995  Avatar  [{\"cast_id\": 242, \"character\": \"Jake Sully\", \"...   \n",
       "\n",
       "                                                crew     budget  \\\n",
       "0  [{\"credit_id\": \"52fe48009251416c750aca23\", \"de...  237000000   \n",
       "\n",
       "                                              genres  \\\n",
       "0  [{\"id\": 28, \"name\": \"Action\"}, {\"id\": 12, \"nam...   \n",
       "\n",
       "                      homepage     id  \\\n",
       "0  http://www.avatarmovie.com/  19995   \n",
       "\n",
       "                                            keywords original_language  ...  \\\n",
       "0  [{\"id\": 1463, \"name\": \"culture clash\"}, {\"id\":...                en  ...   \n",
       "\n",
       "                                production_countries release_date     revenue  \\\n",
       "0  [{\"iso_3166_1\": \"US\", \"name\": \"United States o...   2009-12-10  2787965087   \n",
       "\n",
       "  runtime                                   spoken_languages    status  \\\n",
       "0   162.0  [{\"iso_639_1\": \"en\", \"name\": \"English\"}, {\"iso...  Released   \n",
       "\n",
       "                       tagline  title_y vote_average vote_count  \n",
       "0  Enter the World of Pandora.   Avatar          7.2      11800  \n",
       "\n",
       "[1 rows x 24 columns]"
      ]
     },
     "execution_count": 9,
     "metadata": {},
     "output_type": "execute_result"
    }
   ],
   "source": [
    "merged_df.head(1)"
   ]
  },
  {
   "cell_type": "code",
   "execution_count": 10,
   "id": "22f907f3-3c9e-48f4-b35a-0ffa9351fd7d",
   "metadata": {},
   "outputs": [],
   "source": [
    "final_df = merged_df[[\"original_title\", \"genres\", \"overview\", \"spoken_languages\", \"cast\", \"crew\", \"vote_average\"]]"
   ]
  },
  {
   "cell_type": "code",
   "execution_count": 11,
   "id": "2d6f186d-30a7-44b6-9ae2-8e69372b4389",
   "metadata": {},
   "outputs": [
    {
     "data": {
      "text/html": [
       "<div>\n",
       "<style scoped>\n",
       "    .dataframe tbody tr th:only-of-type {\n",
       "        vertical-align: middle;\n",
       "    }\n",
       "\n",
       "    .dataframe tbody tr th {\n",
       "        vertical-align: top;\n",
       "    }\n",
       "\n",
       "    .dataframe thead th {\n",
       "        text-align: right;\n",
       "    }\n",
       "</style>\n",
       "<table border=\"1\" class=\"dataframe\">\n",
       "  <thead>\n",
       "    <tr style=\"text-align: right;\">\n",
       "      <th></th>\n",
       "      <th>original_title</th>\n",
       "      <th>genres</th>\n",
       "      <th>overview</th>\n",
       "      <th>spoken_languages</th>\n",
       "      <th>cast</th>\n",
       "      <th>crew</th>\n",
       "      <th>vote_average</th>\n",
       "    </tr>\n",
       "  </thead>\n",
       "  <tbody>\n",
       "    <tr>\n",
       "      <th>0</th>\n",
       "      <td>Avatar</td>\n",
       "      <td>[{\"id\": 28, \"name\": \"Action\"}, {\"id\": 12, \"nam...</td>\n",
       "      <td>In the 22nd century, a paraplegic Marine is di...</td>\n",
       "      <td>[{\"iso_639_1\": \"en\", \"name\": \"English\"}, {\"iso...</td>\n",
       "      <td>[{\"cast_id\": 242, \"character\": \"Jake Sully\", \"...</td>\n",
       "      <td>[{\"credit_id\": \"52fe48009251416c750aca23\", \"de...</td>\n",
       "      <td>7.2</td>\n",
       "    </tr>\n",
       "    <tr>\n",
       "      <th>1</th>\n",
       "      <td>Pirates of the Caribbean: At World's End</td>\n",
       "      <td>[{\"id\": 12, \"name\": \"Adventure\"}, {\"id\": 14, \"...</td>\n",
       "      <td>Captain Barbossa, long believed to be dead, ha...</td>\n",
       "      <td>[{\"iso_639_1\": \"en\", \"name\": \"English\"}]</td>\n",
       "      <td>[{\"cast_id\": 4, \"character\": \"Captain Jack Spa...</td>\n",
       "      <td>[{\"credit_id\": \"52fe4232c3a36847f800b579\", \"de...</td>\n",
       "      <td>6.9</td>\n",
       "    </tr>\n",
       "    <tr>\n",
       "      <th>2</th>\n",
       "      <td>Spectre</td>\n",
       "      <td>[{\"id\": 28, \"name\": \"Action\"}, {\"id\": 12, \"nam...</td>\n",
       "      <td>A cryptic message from Bond’s past sends him o...</td>\n",
       "      <td>[{\"iso_639_1\": \"fr\", \"name\": \"Fran\\u00e7ais\"},...</td>\n",
       "      <td>[{\"cast_id\": 1, \"character\": \"James Bond\", \"cr...</td>\n",
       "      <td>[{\"credit_id\": \"54805967c3a36829b5002c41\", \"de...</td>\n",
       "      <td>6.3</td>\n",
       "    </tr>\n",
       "    <tr>\n",
       "      <th>3</th>\n",
       "      <td>The Dark Knight Rises</td>\n",
       "      <td>[{\"id\": 28, \"name\": \"Action\"}, {\"id\": 80, \"nam...</td>\n",
       "      <td>Following the death of District Attorney Harve...</td>\n",
       "      <td>[{\"iso_639_1\": \"en\", \"name\": \"English\"}]</td>\n",
       "      <td>[{\"cast_id\": 2, \"character\": \"Bruce Wayne / Ba...</td>\n",
       "      <td>[{\"credit_id\": \"52fe4781c3a36847f81398c3\", \"de...</td>\n",
       "      <td>7.6</td>\n",
       "    </tr>\n",
       "    <tr>\n",
       "      <th>4</th>\n",
       "      <td>John Carter</td>\n",
       "      <td>[{\"id\": 28, \"name\": \"Action\"}, {\"id\": 12, \"nam...</td>\n",
       "      <td>John Carter is a war-weary, former military ca...</td>\n",
       "      <td>[{\"iso_639_1\": \"en\", \"name\": \"English\"}]</td>\n",
       "      <td>[{\"cast_id\": 5, \"character\": \"John Carter\", \"c...</td>\n",
       "      <td>[{\"credit_id\": \"52fe479ac3a36847f813eaa3\", \"de...</td>\n",
       "      <td>6.1</td>\n",
       "    </tr>\n",
       "  </tbody>\n",
       "</table>\n",
       "</div>"
      ],
      "text/plain": [
       "                             original_title  \\\n",
       "0                                    Avatar   \n",
       "1  Pirates of the Caribbean: At World's End   \n",
       "2                                   Spectre   \n",
       "3                     The Dark Knight Rises   \n",
       "4                               John Carter   \n",
       "\n",
       "                                              genres  \\\n",
       "0  [{\"id\": 28, \"name\": \"Action\"}, {\"id\": 12, \"nam...   \n",
       "1  [{\"id\": 12, \"name\": \"Adventure\"}, {\"id\": 14, \"...   \n",
       "2  [{\"id\": 28, \"name\": \"Action\"}, {\"id\": 12, \"nam...   \n",
       "3  [{\"id\": 28, \"name\": \"Action\"}, {\"id\": 80, \"nam...   \n",
       "4  [{\"id\": 28, \"name\": \"Action\"}, {\"id\": 12, \"nam...   \n",
       "\n",
       "                                            overview  \\\n",
       "0  In the 22nd century, a paraplegic Marine is di...   \n",
       "1  Captain Barbossa, long believed to be dead, ha...   \n",
       "2  A cryptic message from Bond’s past sends him o...   \n",
       "3  Following the death of District Attorney Harve...   \n",
       "4  John Carter is a war-weary, former military ca...   \n",
       "\n",
       "                                    spoken_languages  \\\n",
       "0  [{\"iso_639_1\": \"en\", \"name\": \"English\"}, {\"iso...   \n",
       "1           [{\"iso_639_1\": \"en\", \"name\": \"English\"}]   \n",
       "2  [{\"iso_639_1\": \"fr\", \"name\": \"Fran\\u00e7ais\"},...   \n",
       "3           [{\"iso_639_1\": \"en\", \"name\": \"English\"}]   \n",
       "4           [{\"iso_639_1\": \"en\", \"name\": \"English\"}]   \n",
       "\n",
       "                                                cast  \\\n",
       "0  [{\"cast_id\": 242, \"character\": \"Jake Sully\", \"...   \n",
       "1  [{\"cast_id\": 4, \"character\": \"Captain Jack Spa...   \n",
       "2  [{\"cast_id\": 1, \"character\": \"James Bond\", \"cr...   \n",
       "3  [{\"cast_id\": 2, \"character\": \"Bruce Wayne / Ba...   \n",
       "4  [{\"cast_id\": 5, \"character\": \"John Carter\", \"c...   \n",
       "\n",
       "                                                crew  vote_average  \n",
       "0  [{\"credit_id\": \"52fe48009251416c750aca23\", \"de...           7.2  \n",
       "1  [{\"credit_id\": \"52fe4232c3a36847f800b579\", \"de...           6.9  \n",
       "2  [{\"credit_id\": \"54805967c3a36829b5002c41\", \"de...           6.3  \n",
       "3  [{\"credit_id\": \"52fe4781c3a36847f81398c3\", \"de...           7.6  \n",
       "4  [{\"credit_id\": \"52fe479ac3a36847f813eaa3\", \"de...           6.1  "
      ]
     },
     "execution_count": 11,
     "metadata": {},
     "output_type": "execute_result"
    }
   ],
   "source": [
    "final_df.head()"
   ]
  },
  {
   "cell_type": "code",
   "execution_count": 12,
   "id": "8544ee37-565c-40a8-b45b-536b5b932d8c",
   "metadata": {},
   "outputs": [
    {
     "data": {
      "text/html": [
       "<div>\n",
       "<style scoped>\n",
       "    .dataframe tbody tr th:only-of-type {\n",
       "        vertical-align: middle;\n",
       "    }\n",
       "\n",
       "    .dataframe tbody tr th {\n",
       "        vertical-align: top;\n",
       "    }\n",
       "\n",
       "    .dataframe thead th {\n",
       "        text-align: right;\n",
       "    }\n",
       "</style>\n",
       "<table border=\"1\" class=\"dataframe\">\n",
       "  <thead>\n",
       "    <tr style=\"text-align: right;\">\n",
       "      <th></th>\n",
       "      <th>vote_average</th>\n",
       "    </tr>\n",
       "  </thead>\n",
       "  <tbody>\n",
       "    <tr>\n",
       "      <th>count</th>\n",
       "      <td>4803.000000</td>\n",
       "    </tr>\n",
       "    <tr>\n",
       "      <th>mean</th>\n",
       "      <td>6.092172</td>\n",
       "    </tr>\n",
       "    <tr>\n",
       "      <th>std</th>\n",
       "      <td>1.194612</td>\n",
       "    </tr>\n",
       "    <tr>\n",
       "      <th>min</th>\n",
       "      <td>0.000000</td>\n",
       "    </tr>\n",
       "    <tr>\n",
       "      <th>25%</th>\n",
       "      <td>5.600000</td>\n",
       "    </tr>\n",
       "    <tr>\n",
       "      <th>50%</th>\n",
       "      <td>6.200000</td>\n",
       "    </tr>\n",
       "    <tr>\n",
       "      <th>75%</th>\n",
       "      <td>6.800000</td>\n",
       "    </tr>\n",
       "    <tr>\n",
       "      <th>max</th>\n",
       "      <td>10.000000</td>\n",
       "    </tr>\n",
       "  </tbody>\n",
       "</table>\n",
       "</div>"
      ],
      "text/plain": [
       "       vote_average\n",
       "count   4803.000000\n",
       "mean       6.092172\n",
       "std        1.194612\n",
       "min        0.000000\n",
       "25%        5.600000\n",
       "50%        6.200000\n",
       "75%        6.800000\n",
       "max       10.000000"
      ]
     },
     "execution_count": 12,
     "metadata": {},
     "output_type": "execute_result"
    }
   ],
   "source": [
    "final_df.describe()"
   ]
  },
  {
   "cell_type": "code",
   "execution_count": 13,
   "id": "0085967c-9106-493d-a430-c9e6a0f44dd1",
   "metadata": {},
   "outputs": [
    {
     "data": {
      "text/plain": [
       "original_title      4803\n",
       "genres              4803\n",
       "overview            4800\n",
       "spoken_languages    4803\n",
       "cast                4803\n",
       "crew                4803\n",
       "vote_average        4803\n",
       "dtype: int64"
      ]
     },
     "execution_count": 13,
     "metadata": {},
     "output_type": "execute_result"
    }
   ],
   "source": [
    "final_df.count()"
   ]
  },
  {
   "cell_type": "code",
   "execution_count": 14,
   "id": "d29490ed-3244-4ed3-9c27-d9952c91aa97",
   "metadata": {},
   "outputs": [
    {
     "data": {
      "text/plain": [
       "original_title      0\n",
       "genres              0\n",
       "overview            3\n",
       "spoken_languages    0\n",
       "cast                0\n",
       "crew                0\n",
       "vote_average        0\n",
       "dtype: int64"
      ]
     },
     "execution_count": 14,
     "metadata": {},
     "output_type": "execute_result"
    }
   ],
   "source": [
    "final_df.isna().sum()"
   ]
  },
  {
   "cell_type": "code",
   "execution_count": 15,
   "id": "50547fcb-b6ad-4525-881d-25282b522e4a",
   "metadata": {},
   "outputs": [
    {
     "data": {
      "text/plain": [
       "3"
      ]
     },
     "execution_count": 15,
     "metadata": {},
     "output_type": "execute_result"
    }
   ],
   "source": [
    "final_df.overview.isna().sum()"
   ]
  },
  {
   "cell_type": "code",
   "execution_count": 16,
   "id": "01e4db5e-f01b-412d-9123-cef663ea8b97",
   "metadata": {},
   "outputs": [],
   "source": [
    "duplicate_values = final_df[final_df.duplicated(subset = \"overview\")]"
   ]
  },
  {
   "cell_type": "code",
   "execution_count": 17,
   "id": "38d129eb-159f-451d-9c4e-509a0289a8b2",
   "metadata": {},
   "outputs": [
    {
     "data": {
      "text/html": [
       "<div>\n",
       "<style scoped>\n",
       "    .dataframe tbody tr th:only-of-type {\n",
       "        vertical-align: middle;\n",
       "    }\n",
       "\n",
       "    .dataframe tbody tr th {\n",
       "        vertical-align: top;\n",
       "    }\n",
       "\n",
       "    .dataframe thead th {\n",
       "        text-align: right;\n",
       "    }\n",
       "</style>\n",
       "<table border=\"1\" class=\"dataframe\">\n",
       "  <thead>\n",
       "    <tr style=\"text-align: right;\">\n",
       "      <th></th>\n",
       "      <th>original_title</th>\n",
       "      <th>genres</th>\n",
       "      <th>overview</th>\n",
       "      <th>spoken_languages</th>\n",
       "      <th>cast</th>\n",
       "      <th>crew</th>\n",
       "      <th>vote_average</th>\n",
       "    </tr>\n",
       "  </thead>\n",
       "  <tbody>\n",
       "    <tr>\n",
       "      <th>4140</th>\n",
       "      <td>To Be Frank, Sinatra at 100</td>\n",
       "      <td>[{\"id\": 99, \"name\": \"Documentary\"}]</td>\n",
       "      <td>NaN</td>\n",
       "      <td>[]</td>\n",
       "      <td>[{\"cast_id\": 0, \"character\": \"Narrator\", \"cred...</td>\n",
       "      <td>[{\"credit_id\": \"592b25e4c3a368783e065a2f\", \"de...</td>\n",
       "      <td>0.0</td>\n",
       "    </tr>\n",
       "    <tr>\n",
       "      <th>4431</th>\n",
       "      <td>Food Chains</td>\n",
       "      <td>[{\"id\": 99, \"name\": \"Documentary\"}]</td>\n",
       "      <td>NaN</td>\n",
       "      <td>[{\"iso_639_1\": \"en\", \"name\": \"English\"}]</td>\n",
       "      <td>[]</td>\n",
       "      <td>[{\"credit_id\": \"5470c3b1c3a368085e000abd\", \"de...</td>\n",
       "      <td>7.4</td>\n",
       "    </tr>\n",
       "  </tbody>\n",
       "</table>\n",
       "</div>"
      ],
      "text/plain": [
       "                   original_title                               genres  \\\n",
       "4140  To Be Frank, Sinatra at 100  [{\"id\": 99, \"name\": \"Documentary\"}]   \n",
       "4431                  Food Chains  [{\"id\": 99, \"name\": \"Documentary\"}]   \n",
       "\n",
       "     overview                          spoken_languages  \\\n",
       "4140      NaN                                        []   \n",
       "4431      NaN  [{\"iso_639_1\": \"en\", \"name\": \"English\"}]   \n",
       "\n",
       "                                                   cast  \\\n",
       "4140  [{\"cast_id\": 0, \"character\": \"Narrator\", \"cred...   \n",
       "4431                                                 []   \n",
       "\n",
       "                                                   crew  vote_average  \n",
       "4140  [{\"credit_id\": \"592b25e4c3a368783e065a2f\", \"de...           0.0  \n",
       "4431  [{\"credit_id\": \"5470c3b1c3a368085e000abd\", \"de...           7.4  "
      ]
     },
     "execution_count": 17,
     "metadata": {},
     "output_type": "execute_result"
    }
   ],
   "source": [
    "duplicate_values"
   ]
  },
  {
   "cell_type": "code",
   "execution_count": 18,
   "id": "1e16d8f2-9d3d-41d4-9e0f-739d7e16ed5e",
   "metadata": {},
   "outputs": [
    {
     "data": {
      "text/plain": [
       "' this will drop rows in the csv if any column in the row contains the nan values so that the data size may reduce so instead\\nof doing this we can find the data to fit in the nan place'"
      ]
     },
     "execution_count": 18,
     "metadata": {},
     "output_type": "execute_result"
    }
   ],
   "source": [
    "#final_df.dropna() \n",
    "\"\"\" this will drop rows in the csv if any column in the row contains the nan values so that the data size may reduce so instead\n",
    "of doing this we can find the data to fit in the nan place\"\"\""
   ]
  },
  {
   "cell_type": "code",
   "execution_count": 19,
   "id": "c2747c8f-2e5c-4343-9ad5-9e0277c3280c",
   "metadata": {},
   "outputs": [],
   "source": [
    "final_df.loc[[4140], \"overview\"] = \"To Be Frank: Sinatra at 100 is a documentary celebrating Frank Sinatra's life, highlighting his groundbreaking contributions to both music and film. It offers rare insights into his personal and professional journey, showcasing his lasting cultural impact. The film honors his legacy, marking what would have been his 100th birthday.\""
   ]
  },
  {
   "cell_type": "code",
   "execution_count": 20,
   "id": "1cf56ead-4ce8-421d-a694-fab3d6f0c513",
   "metadata": {},
   "outputs": [
    {
     "data": {
      "text/html": [
       "<div>\n",
       "<style scoped>\n",
       "    .dataframe tbody tr th:only-of-type {\n",
       "        vertical-align: middle;\n",
       "    }\n",
       "\n",
       "    .dataframe tbody tr th {\n",
       "        vertical-align: top;\n",
       "    }\n",
       "\n",
       "    .dataframe thead th {\n",
       "        text-align: right;\n",
       "    }\n",
       "</style>\n",
       "<table border=\"1\" class=\"dataframe\">\n",
       "  <thead>\n",
       "    <tr style=\"text-align: right;\">\n",
       "      <th></th>\n",
       "      <th>original_title</th>\n",
       "      <th>genres</th>\n",
       "      <th>overview</th>\n",
       "      <th>spoken_languages</th>\n",
       "      <th>cast</th>\n",
       "      <th>crew</th>\n",
       "      <th>vote_average</th>\n",
       "    </tr>\n",
       "  </thead>\n",
       "  <tbody>\n",
       "    <tr>\n",
       "      <th>2656</th>\n",
       "      <td>Chiamatemi Francesco - Il Papa della gente</td>\n",
       "      <td>[{\"id\": 18, \"name\": \"Drama\"}]</td>\n",
       "      <td>NaN</td>\n",
       "      <td>[{\"iso_639_1\": \"es\", \"name\": \"Espa\\u00f1ol\"}]</td>\n",
       "      <td>[{\"cast_id\": 5, \"character\": \"Jorge Mario Berg...</td>\n",
       "      <td>[{\"credit_id\": \"5660019ac3a36875f100252b\", \"de...</td>\n",
       "      <td>7.3</td>\n",
       "    </tr>\n",
       "    <tr>\n",
       "      <th>4431</th>\n",
       "      <td>Food Chains</td>\n",
       "      <td>[{\"id\": 99, \"name\": \"Documentary\"}]</td>\n",
       "      <td>NaN</td>\n",
       "      <td>[{\"iso_639_1\": \"en\", \"name\": \"English\"}]</td>\n",
       "      <td>[]</td>\n",
       "      <td>[{\"credit_id\": \"5470c3b1c3a368085e000abd\", \"de...</td>\n",
       "      <td>7.4</td>\n",
       "    </tr>\n",
       "  </tbody>\n",
       "</table>\n",
       "</div>"
      ],
      "text/plain": [
       "                                  original_title  \\\n",
       "2656  Chiamatemi Francesco - Il Papa della gente   \n",
       "4431                                 Food Chains   \n",
       "\n",
       "                                   genres overview  \\\n",
       "2656        [{\"id\": 18, \"name\": \"Drama\"}]      NaN   \n",
       "4431  [{\"id\": 99, \"name\": \"Documentary\"}]      NaN   \n",
       "\n",
       "                                   spoken_languages  \\\n",
       "2656  [{\"iso_639_1\": \"es\", \"name\": \"Espa\\u00f1ol\"}]   \n",
       "4431       [{\"iso_639_1\": \"en\", \"name\": \"English\"}]   \n",
       "\n",
       "                                                   cast  \\\n",
       "2656  [{\"cast_id\": 5, \"character\": \"Jorge Mario Berg...   \n",
       "4431                                                 []   \n",
       "\n",
       "                                                   crew  vote_average  \n",
       "2656  [{\"credit_id\": \"5660019ac3a36875f100252b\", \"de...           7.3  \n",
       "4431  [{\"credit_id\": \"5470c3b1c3a368085e000abd\", \"de...           7.4  "
      ]
     },
     "execution_count": 20,
     "metadata": {},
     "output_type": "execute_result"
    }
   ],
   "source": [
    "nan_in_overview = final_df[final_df[\"overview\"].isna()]\n",
    "nan_in_overview"
   ]
  },
  {
   "cell_type": "code",
   "execution_count": 21,
   "id": "2d06bea8-176a-4f0f-8ac0-705f0d2be265",
   "metadata": {},
   "outputs": [],
   "source": [
    "final_df.loc[[4431],\"overview\"] = \"Food Chains is a documentary that exposes the harsh realities of the agricultural industry, focusing on the exploitation of farm workers in the United States. It follows the efforts of the Coalition of Immokalee Workers (CIW) in Florida, who fight for better wages and working conditions. The film highlights the power dynamics between large corporations and the migrant workers who supply the food we consume.\""
   ]
  },
  {
   "cell_type": "code",
   "execution_count": 22,
   "id": "74e1eb6a-1eeb-440a-889a-7479d1d24cb2",
   "metadata": {},
   "outputs": [
    {
     "data": {
      "text/html": [
       "<div>\n",
       "<style scoped>\n",
       "    .dataframe tbody tr th:only-of-type {\n",
       "        vertical-align: middle;\n",
       "    }\n",
       "\n",
       "    .dataframe tbody tr th {\n",
       "        vertical-align: top;\n",
       "    }\n",
       "\n",
       "    .dataframe thead th {\n",
       "        text-align: right;\n",
       "    }\n",
       "</style>\n",
       "<table border=\"1\" class=\"dataframe\">\n",
       "  <thead>\n",
       "    <tr style=\"text-align: right;\">\n",
       "      <th></th>\n",
       "      <th>original_title</th>\n",
       "      <th>genres</th>\n",
       "      <th>overview</th>\n",
       "      <th>spoken_languages</th>\n",
       "      <th>cast</th>\n",
       "      <th>crew</th>\n",
       "      <th>vote_average</th>\n",
       "    </tr>\n",
       "  </thead>\n",
       "  <tbody>\n",
       "    <tr>\n",
       "      <th>2656</th>\n",
       "      <td>Chiamatemi Francesco - Il Papa della gente</td>\n",
       "      <td>[{\"id\": 18, \"name\": \"Drama\"}]</td>\n",
       "      <td>NaN</td>\n",
       "      <td>[{\"iso_639_1\": \"es\", \"name\": \"Espa\\u00f1ol\"}]</td>\n",
       "      <td>[{\"cast_id\": 5, \"character\": \"Jorge Mario Berg...</td>\n",
       "      <td>[{\"credit_id\": \"5660019ac3a36875f100252b\", \"de...</td>\n",
       "      <td>7.3</td>\n",
       "    </tr>\n",
       "  </tbody>\n",
       "</table>\n",
       "</div>"
      ],
      "text/plain": [
       "                                  original_title  \\\n",
       "2656  Chiamatemi Francesco - Il Papa della gente   \n",
       "\n",
       "                             genres overview  \\\n",
       "2656  [{\"id\": 18, \"name\": \"Drama\"}]      NaN   \n",
       "\n",
       "                                   spoken_languages  \\\n",
       "2656  [{\"iso_639_1\": \"es\", \"name\": \"Espa\\u00f1ol\"}]   \n",
       "\n",
       "                                                   cast  \\\n",
       "2656  [{\"cast_id\": 5, \"character\": \"Jorge Mario Berg...   \n",
       "\n",
       "                                                   crew  vote_average  \n",
       "2656  [{\"credit_id\": \"5660019ac3a36875f100252b\", \"de...           7.3  "
      ]
     },
     "execution_count": 22,
     "metadata": {},
     "output_type": "execute_result"
    }
   ],
   "source": [
    "nan_in_overview = final_df[final_df[\"overview\"].isna()]\n",
    "nan_in_overview"
   ]
  },
  {
   "cell_type": "code",
   "execution_count": 23,
   "id": "0df125a9-c768-476d-bcb2-68daa55d4787",
   "metadata": {},
   "outputs": [],
   "source": [
    "final_df.loc[[2656],\"overview\"] = \"Chiamatemi Francesco - Il Papa della gente is a biographical drama about Pope Francis' life, from his early years in Argentina to his papacy. The film highlights his humble origins, dedication to the poor, and commitment to reforming the Catholic Church. It showcases his deep compassion and focus on social justice.\""
   ]
  },
  {
   "cell_type": "code",
   "execution_count": 24,
   "id": "a9f561a8-2673-442c-9cbb-6e92e50c5ffe",
   "metadata": {},
   "outputs": [
    {
     "data": {
      "text/plain": [
       "original_title      0\n",
       "genres              0\n",
       "overview            0\n",
       "spoken_languages    0\n",
       "cast                0\n",
       "crew                0\n",
       "vote_average        0\n",
       "dtype: int64"
      ]
     },
     "execution_count": 24,
     "metadata": {},
     "output_type": "execute_result"
    }
   ],
   "source": [
    "final_df.isna().sum()"
   ]
  },
  {
   "cell_type": "code",
   "execution_count": 25,
   "id": "7e986d9b-3baa-4a95-990a-7ffa7d39bc45",
   "metadata": {},
   "outputs": [
    {
     "data": {
      "text/html": [
       "<div>\n",
       "<style scoped>\n",
       "    .dataframe tbody tr th:only-of-type {\n",
       "        vertical-align: middle;\n",
       "    }\n",
       "\n",
       "    .dataframe tbody tr th {\n",
       "        vertical-align: top;\n",
       "    }\n",
       "\n",
       "    .dataframe thead th {\n",
       "        text-align: right;\n",
       "    }\n",
       "</style>\n",
       "<table border=\"1\" class=\"dataframe\">\n",
       "  <thead>\n",
       "    <tr style=\"text-align: right;\">\n",
       "      <th></th>\n",
       "      <th>original_title</th>\n",
       "      <th>genres</th>\n",
       "      <th>overview</th>\n",
       "      <th>spoken_languages</th>\n",
       "      <th>cast</th>\n",
       "      <th>crew</th>\n",
       "      <th>vote_average</th>\n",
       "    </tr>\n",
       "  </thead>\n",
       "  <tbody>\n",
       "    <tr>\n",
       "      <th>0</th>\n",
       "      <td>Avatar</td>\n",
       "      <td>[{\"id\": 28, \"name\": \"Action\"}, {\"id\": 12, \"nam...</td>\n",
       "      <td>In the 22nd century, a paraplegic Marine is di...</td>\n",
       "      <td>[{\"iso_639_1\": \"en\", \"name\": \"English\"}, {\"iso...</td>\n",
       "      <td>[{\"cast_id\": 242, \"character\": \"Jake Sully\", \"...</td>\n",
       "      <td>[{\"credit_id\": \"52fe48009251416c750aca23\", \"de...</td>\n",
       "      <td>7.2</td>\n",
       "    </tr>\n",
       "    <tr>\n",
       "      <th>1</th>\n",
       "      <td>Pirates of the Caribbean: At World's End</td>\n",
       "      <td>[{\"id\": 12, \"name\": \"Adventure\"}, {\"id\": 14, \"...</td>\n",
       "      <td>Captain Barbossa, long believed to be dead, ha...</td>\n",
       "      <td>[{\"iso_639_1\": \"en\", \"name\": \"English\"}]</td>\n",
       "      <td>[{\"cast_id\": 4, \"character\": \"Captain Jack Spa...</td>\n",
       "      <td>[{\"credit_id\": \"52fe4232c3a36847f800b579\", \"de...</td>\n",
       "      <td>6.9</td>\n",
       "    </tr>\n",
       "    <tr>\n",
       "      <th>2</th>\n",
       "      <td>Spectre</td>\n",
       "      <td>[{\"id\": 28, \"name\": \"Action\"}, {\"id\": 12, \"nam...</td>\n",
       "      <td>A cryptic message from Bond’s past sends him o...</td>\n",
       "      <td>[{\"iso_639_1\": \"fr\", \"name\": \"Fran\\u00e7ais\"},...</td>\n",
       "      <td>[{\"cast_id\": 1, \"character\": \"James Bond\", \"cr...</td>\n",
       "      <td>[{\"credit_id\": \"54805967c3a36829b5002c41\", \"de...</td>\n",
       "      <td>6.3</td>\n",
       "    </tr>\n",
       "    <tr>\n",
       "      <th>3</th>\n",
       "      <td>The Dark Knight Rises</td>\n",
       "      <td>[{\"id\": 28, \"name\": \"Action\"}, {\"id\": 80, \"nam...</td>\n",
       "      <td>Following the death of District Attorney Harve...</td>\n",
       "      <td>[{\"iso_639_1\": \"en\", \"name\": \"English\"}]</td>\n",
       "      <td>[{\"cast_id\": 2, \"character\": \"Bruce Wayne / Ba...</td>\n",
       "      <td>[{\"credit_id\": \"52fe4781c3a36847f81398c3\", \"de...</td>\n",
       "      <td>7.6</td>\n",
       "    </tr>\n",
       "    <tr>\n",
       "      <th>4</th>\n",
       "      <td>John Carter</td>\n",
       "      <td>[{\"id\": 28, \"name\": \"Action\"}, {\"id\": 12, \"nam...</td>\n",
       "      <td>John Carter is a war-weary, former military ca...</td>\n",
       "      <td>[{\"iso_639_1\": \"en\", \"name\": \"English\"}]</td>\n",
       "      <td>[{\"cast_id\": 5, \"character\": \"John Carter\", \"c...</td>\n",
       "      <td>[{\"credit_id\": \"52fe479ac3a36847f813eaa3\", \"de...</td>\n",
       "      <td>6.1</td>\n",
       "    </tr>\n",
       "  </tbody>\n",
       "</table>\n",
       "</div>"
      ],
      "text/plain": [
       "                             original_title  \\\n",
       "0                                    Avatar   \n",
       "1  Pirates of the Caribbean: At World's End   \n",
       "2                                   Spectre   \n",
       "3                     The Dark Knight Rises   \n",
       "4                               John Carter   \n",
       "\n",
       "                                              genres  \\\n",
       "0  [{\"id\": 28, \"name\": \"Action\"}, {\"id\": 12, \"nam...   \n",
       "1  [{\"id\": 12, \"name\": \"Adventure\"}, {\"id\": 14, \"...   \n",
       "2  [{\"id\": 28, \"name\": \"Action\"}, {\"id\": 12, \"nam...   \n",
       "3  [{\"id\": 28, \"name\": \"Action\"}, {\"id\": 80, \"nam...   \n",
       "4  [{\"id\": 28, \"name\": \"Action\"}, {\"id\": 12, \"nam...   \n",
       "\n",
       "                                            overview  \\\n",
       "0  In the 22nd century, a paraplegic Marine is di...   \n",
       "1  Captain Barbossa, long believed to be dead, ha...   \n",
       "2  A cryptic message from Bond’s past sends him o...   \n",
       "3  Following the death of District Attorney Harve...   \n",
       "4  John Carter is a war-weary, former military ca...   \n",
       "\n",
       "                                    spoken_languages  \\\n",
       "0  [{\"iso_639_1\": \"en\", \"name\": \"English\"}, {\"iso...   \n",
       "1           [{\"iso_639_1\": \"en\", \"name\": \"English\"}]   \n",
       "2  [{\"iso_639_1\": \"fr\", \"name\": \"Fran\\u00e7ais\"},...   \n",
       "3           [{\"iso_639_1\": \"en\", \"name\": \"English\"}]   \n",
       "4           [{\"iso_639_1\": \"en\", \"name\": \"English\"}]   \n",
       "\n",
       "                                                cast  \\\n",
       "0  [{\"cast_id\": 242, \"character\": \"Jake Sully\", \"...   \n",
       "1  [{\"cast_id\": 4, \"character\": \"Captain Jack Spa...   \n",
       "2  [{\"cast_id\": 1, \"character\": \"James Bond\", \"cr...   \n",
       "3  [{\"cast_id\": 2, \"character\": \"Bruce Wayne / Ba...   \n",
       "4  [{\"cast_id\": 5, \"character\": \"John Carter\", \"c...   \n",
       "\n",
       "                                                crew  vote_average  \n",
       "0  [{\"credit_id\": \"52fe48009251416c750aca23\", \"de...           7.2  \n",
       "1  [{\"credit_id\": \"52fe4232c3a36847f800b579\", \"de...           6.9  \n",
       "2  [{\"credit_id\": \"54805967c3a36829b5002c41\", \"de...           6.3  \n",
       "3  [{\"credit_id\": \"52fe4781c3a36847f81398c3\", \"de...           7.6  \n",
       "4  [{\"credit_id\": \"52fe479ac3a36847f813eaa3\", \"de...           6.1  "
      ]
     },
     "execution_count": 25,
     "metadata": {},
     "output_type": "execute_result"
    }
   ],
   "source": [
    "final_df.head()"
   ]
  },
  {
   "cell_type": "code",
   "execution_count": 26,
   "id": "dc02d76c-b4db-4af0-ae6e-2de2fbdaafd3",
   "metadata": {},
   "outputs": [
    {
     "data": {
      "text/plain": [
       "'[{\"id\": 28, \"name\": \"Action\"}, {\"id\": 12, \"name\": \"Adventure\"}, {\"id\": 80, \"name\": \"Crime\"}]'"
      ]
     },
     "execution_count": 26,
     "metadata": {},
     "output_type": "execute_result"
    }
   ],
   "source": [
    "final_df.loc[2][\"genres\"]"
   ]
  },
  {
   "cell_type": "code",
   "execution_count": 27,
   "id": "4b787ca8-04ac-478c-8c32-e197bafa4472",
   "metadata": {},
   "outputs": [],
   "source": [
    "import ast\n",
    "\n",
    "def convert(text):\n",
    "    values = []\n",
    "    for i in ast.literal_eval(text):\n",
    "        values.append(i[\"name\"])\n",
    "    return values\n",
    "    "
   ]
  },
  {
   "cell_type": "code",
   "execution_count": 28,
   "id": "a143047c-661c-4a98-86ed-e22ae8ebe9a1",
   "metadata": {},
   "outputs": [
    {
     "name": "stderr",
     "output_type": "stream",
     "text": [
      "C:\\Users\\sarve\\AppData\\Local\\Temp\\ipykernel_1616\\468331597.py:1: SettingWithCopyWarning: \n",
      "A value is trying to be set on a copy of a slice from a DataFrame.\n",
      "Try using .loc[row_indexer,col_indexer] = value instead\n",
      "\n",
      "See the caveats in the documentation: https://pandas.pydata.org/pandas-docs/stable/user_guide/indexing.html#returning-a-view-versus-a-copy\n",
      "  final_df[\"genres\"] = final_df[\"genres\"].apply(convert)\n"
     ]
    }
   ],
   "source": [
    "final_df[\"genres\"] = final_df[\"genres\"].apply(convert)"
   ]
  },
  {
   "cell_type": "code",
   "execution_count": 29,
   "id": "6ee429dc-d401-40c3-8f52-5781dda4616e",
   "metadata": {},
   "outputs": [
    {
     "data": {
      "text/plain": [
       "'[{\"iso_639_1\": \"fr\", \"name\": \"Fran\\\\u00e7ais\"}, {\"iso_639_1\": \"en\", \"name\": \"English\"}, {\"iso_639_1\": \"es\", \"name\": \"Espa\\\\u00f1ol\"}, {\"iso_639_1\": \"it\", \"name\": \"Italiano\"}, {\"iso_639_1\": \"de\", \"name\": \"Deutsch\"}]'"
      ]
     },
     "execution_count": 29,
     "metadata": {},
     "output_type": "execute_result"
    }
   ],
   "source": [
    "final_df.loc[2][\"spoken_languages\"]"
   ]
  },
  {
   "cell_type": "code",
   "execution_count": 30,
   "id": "afa3883e-e294-4aa1-87bc-877b3716b78e",
   "metadata": {},
   "outputs": [
    {
     "name": "stderr",
     "output_type": "stream",
     "text": [
      "C:\\Users\\sarve\\AppData\\Local\\Temp\\ipykernel_1616\\2813473226.py:1: SettingWithCopyWarning: \n",
      "A value is trying to be set on a copy of a slice from a DataFrame.\n",
      "Try using .loc[row_indexer,col_indexer] = value instead\n",
      "\n",
      "See the caveats in the documentation: https://pandas.pydata.org/pandas-docs/stable/user_guide/indexing.html#returning-a-view-versus-a-copy\n",
      "  final_df[\"spoken_languages\"] = final_df[\"spoken_languages\"].apply(convert)\n"
     ]
    }
   ],
   "source": [
    "final_df[\"spoken_languages\"] = final_df[\"spoken_languages\"].apply(convert)"
   ]
  },
  {
   "cell_type": "code",
   "execution_count": 31,
   "id": "d411952a-c2ce-4e6b-aba4-b3fdfa2480d5",
   "metadata": {},
   "outputs": [],
   "source": [
    "import ast\n",
    "\n",
    "def convert_series(text):\n",
    "    values = []\n",
    "    counter = 0\n",
    "    for i in ast.literal_eval(text):\n",
    "        if counter<3:\n",
    "            values.append(i[\"name\"])\n",
    "        counter+=1\n",
    "    return values"
   ]
  },
  {
   "cell_type": "code",
   "execution_count": 32,
   "id": "c61f1054-0f1f-4e2b-9209-8e6659645dfa",
   "metadata": {},
   "outputs": [
    {
     "name": "stderr",
     "output_type": "stream",
     "text": [
      "C:\\Users\\sarve\\AppData\\Local\\Temp\\ipykernel_1616\\2212612881.py:1: SettingWithCopyWarning: \n",
      "A value is trying to be set on a copy of a slice from a DataFrame.\n",
      "Try using .loc[row_indexer,col_indexer] = value instead\n",
      "\n",
      "See the caveats in the documentation: https://pandas.pydata.org/pandas-docs/stable/user_guide/indexing.html#returning-a-view-versus-a-copy\n",
      "  final_df[\"cast\"] = final_df[\"cast\"].apply(convert_series)\n"
     ]
    }
   ],
   "source": [
    "final_df[\"cast\"] = final_df[\"cast\"].apply(convert_series)"
   ]
  },
  {
   "cell_type": "code",
   "execution_count": 33,
   "id": "527f64ae-d605-44d4-990c-8075713d8ef4",
   "metadata": {},
   "outputs": [
    {
     "data": {
      "text/plain": [
       "['Daniel Craig', 'Christoph Waltz', 'Léa Seydoux']"
      ]
     },
     "execution_count": 33,
     "metadata": {},
     "output_type": "execute_result"
    }
   ],
   "source": [
    "final_df.loc[2][\"cast\"]"
   ]
  },
  {
   "cell_type": "code",
   "execution_count": 34,
   "id": "969dacd0-97b2-4c55-9b68-9bd523b26ace",
   "metadata": {},
   "outputs": [
    {
     "name": "stderr",
     "output_type": "stream",
     "text": [
      "C:\\Users\\sarve\\AppData\\Local\\Temp\\ipykernel_1616\\3415606155.py:1: SettingWithCopyWarning: \n",
      "A value is trying to be set on a copy of a slice from a DataFrame.\n",
      "Try using .loc[row_indexer,col_indexer] = value instead\n",
      "\n",
      "See the caveats in the documentation: https://pandas.pydata.org/pandas-docs/stable/user_guide/indexing.html#returning-a-view-versus-a-copy\n",
      "  final_df[\"crew\"] = final_df[\"crew\"].apply(convert_series)\n"
     ]
    },
    {
     "data": {
      "text/plain": [
       "['Thomas Newman', 'Sam Mendes', 'Anna Pinnock']"
      ]
     },
     "execution_count": 34,
     "metadata": {},
     "output_type": "execute_result"
    }
   ],
   "source": [
    "final_df[\"crew\"] = final_df[\"crew\"].apply(convert_series)\n",
    "final_df.loc[2][\"crew\"]"
   ]
  },
  {
   "cell_type": "code",
   "execution_count": 35,
   "id": "ea03dfde-d335-441a-b964-216d4af834f1",
   "metadata": {},
   "outputs": [
    {
     "name": "stderr",
     "output_type": "stream",
     "text": [
      "C:\\Users\\sarve\\AppData\\Local\\Temp\\ipykernel_1616\\3570633705.py:1: SettingWithCopyWarning: \n",
      "A value is trying to be set on a copy of a slice from a DataFrame.\n",
      "Try using .loc[row_indexer,col_indexer] = value instead\n",
      "\n",
      "See the caveats in the documentation: https://pandas.pydata.org/pandas-docs/stable/user_guide/indexing.html#returning-a-view-versus-a-copy\n",
      "  final_df[\"overview\"] = final_df[\"overview\"].apply(lambda x : x.split())\n"
     ]
    }
   ],
   "source": [
    "final_df[\"overview\"] = final_df[\"overview\"].apply(lambda x : x.split())"
   ]
  },
  {
   "cell_type": "code",
   "execution_count": 36,
   "id": "1f2bfe33-af5a-4796-bedb-13a1206ba2ac",
   "metadata": {},
   "outputs": [
    {
     "data": {
      "text/html": [
       "<div>\n",
       "<style scoped>\n",
       "    .dataframe tbody tr th:only-of-type {\n",
       "        vertical-align: middle;\n",
       "    }\n",
       "\n",
       "    .dataframe tbody tr th {\n",
       "        vertical-align: top;\n",
       "    }\n",
       "\n",
       "    .dataframe thead th {\n",
       "        text-align: right;\n",
       "    }\n",
       "</style>\n",
       "<table border=\"1\" class=\"dataframe\">\n",
       "  <thead>\n",
       "    <tr style=\"text-align: right;\">\n",
       "      <th></th>\n",
       "      <th>original_title</th>\n",
       "      <th>genres</th>\n",
       "      <th>overview</th>\n",
       "      <th>spoken_languages</th>\n",
       "      <th>cast</th>\n",
       "      <th>crew</th>\n",
       "      <th>vote_average</th>\n",
       "    </tr>\n",
       "  </thead>\n",
       "  <tbody>\n",
       "    <tr>\n",
       "      <th>0</th>\n",
       "      <td>Avatar</td>\n",
       "      <td>[Action, Adventure, Fantasy, Science Fiction]</td>\n",
       "      <td>[In, the, 22nd, century,, a, paraplegic, Marin...</td>\n",
       "      <td>[English, Español]</td>\n",
       "      <td>[Sam Worthington, Zoe Saldana, Sigourney Weaver]</td>\n",
       "      <td>[Stephen E. Rivkin, Rick Carter, Christopher B...</td>\n",
       "      <td>7.2</td>\n",
       "    </tr>\n",
       "    <tr>\n",
       "      <th>1</th>\n",
       "      <td>Pirates of the Caribbean: At World's End</td>\n",
       "      <td>[Adventure, Fantasy, Action]</td>\n",
       "      <td>[Captain, Barbossa,, long, believed, to, be, d...</td>\n",
       "      <td>[English]</td>\n",
       "      <td>[Johnny Depp, Orlando Bloom, Keira Knightley]</td>\n",
       "      <td>[Dariusz Wolski, Gore Verbinski, Jerry Bruckhe...</td>\n",
       "      <td>6.9</td>\n",
       "    </tr>\n",
       "    <tr>\n",
       "      <th>2</th>\n",
       "      <td>Spectre</td>\n",
       "      <td>[Action, Adventure, Crime]</td>\n",
       "      <td>[A, cryptic, message, from, Bond’s, past, send...</td>\n",
       "      <td>[Français, English, Español, Italiano, Deutsch]</td>\n",
       "      <td>[Daniel Craig, Christoph Waltz, Léa Seydoux]</td>\n",
       "      <td>[Thomas Newman, Sam Mendes, Anna Pinnock]</td>\n",
       "      <td>6.3</td>\n",
       "    </tr>\n",
       "  </tbody>\n",
       "</table>\n",
       "</div>"
      ],
      "text/plain": [
       "                             original_title  \\\n",
       "0                                    Avatar   \n",
       "1  Pirates of the Caribbean: At World's End   \n",
       "2                                   Spectre   \n",
       "\n",
       "                                          genres  \\\n",
       "0  [Action, Adventure, Fantasy, Science Fiction]   \n",
       "1                   [Adventure, Fantasy, Action]   \n",
       "2                     [Action, Adventure, Crime]   \n",
       "\n",
       "                                            overview  \\\n",
       "0  [In, the, 22nd, century,, a, paraplegic, Marin...   \n",
       "1  [Captain, Barbossa,, long, believed, to, be, d...   \n",
       "2  [A, cryptic, message, from, Bond’s, past, send...   \n",
       "\n",
       "                                  spoken_languages  \\\n",
       "0                               [English, Español]   \n",
       "1                                        [English]   \n",
       "2  [Français, English, Español, Italiano, Deutsch]   \n",
       "\n",
       "                                               cast  \\\n",
       "0  [Sam Worthington, Zoe Saldana, Sigourney Weaver]   \n",
       "1     [Johnny Depp, Orlando Bloom, Keira Knightley]   \n",
       "2      [Daniel Craig, Christoph Waltz, Léa Seydoux]   \n",
       "\n",
       "                                                crew  vote_average  \n",
       "0  [Stephen E. Rivkin, Rick Carter, Christopher B...           7.2  \n",
       "1  [Dariusz Wolski, Gore Verbinski, Jerry Bruckhe...           6.9  \n",
       "2          [Thomas Newman, Sam Mendes, Anna Pinnock]           6.3  "
      ]
     },
     "execution_count": 36,
     "metadata": {},
     "output_type": "execute_result"
    }
   ],
   "source": [
    "final_df.head(3)"
   ]
  },
  {
   "cell_type": "code",
   "execution_count": 37,
   "id": "9e887173-bd1b-41ac-a657-46c95adff63c",
   "metadata": {},
   "outputs": [],
   "source": [
    "# method to remove the spaces in the cast, crew\n",
    "\n",
    "def remove_spaces(words):\n",
    "    list1 = []\n",
    "    for i in words:\n",
    "        list1.append(i.replace(\" \",\"\"))\n",
    "    return list1"
   ]
  },
  {
   "cell_type": "code",
   "execution_count": 38,
   "id": "118c6caa-d18d-4aca-9604-eeae8420326b",
   "metadata": {},
   "outputs": [
    {
     "name": "stderr",
     "output_type": "stream",
     "text": [
      "C:\\Users\\sarve\\AppData\\Local\\Temp\\ipykernel_1616\\2103897537.py:1: SettingWithCopyWarning: \n",
      "A value is trying to be set on a copy of a slice from a DataFrame.\n",
      "Try using .loc[row_indexer,col_indexer] = value instead\n",
      "\n",
      "See the caveats in the documentation: https://pandas.pydata.org/pandas-docs/stable/user_guide/indexing.html#returning-a-view-versus-a-copy\n",
      "  final_df[\"cast\"] = final_df[\"cast\"].apply(remove_spaces)\n"
     ]
    }
   ],
   "source": [
    "final_df[\"cast\"] = final_df[\"cast\"].apply(remove_spaces)"
   ]
  },
  {
   "cell_type": "code",
   "execution_count": 39,
   "id": "4f039233-fe17-405e-b8f2-b46b2c851c4a",
   "metadata": {},
   "outputs": [
    {
     "name": "stderr",
     "output_type": "stream",
     "text": [
      "C:\\Users\\sarve\\AppData\\Local\\Temp\\ipykernel_1616\\2289260844.py:1: SettingWithCopyWarning: \n",
      "A value is trying to be set on a copy of a slice from a DataFrame.\n",
      "Try using .loc[row_indexer,col_indexer] = value instead\n",
      "\n",
      "See the caveats in the documentation: https://pandas.pydata.org/pandas-docs/stable/user_guide/indexing.html#returning-a-view-versus-a-copy\n",
      "  final_df[\"crew\"] = final_df[\"crew\"].apply(remove_spaces)\n"
     ]
    }
   ],
   "source": [
    "final_df[\"crew\"] = final_df[\"crew\"].apply(remove_spaces)"
   ]
  },
  {
   "cell_type": "code",
   "execution_count": 40,
   "id": "c2f954b7-d62b-4afd-a6e3-537ed1a6a7e9",
   "metadata": {},
   "outputs": [
    {
     "name": "stderr",
     "output_type": "stream",
     "text": [
      "C:\\Users\\sarve\\AppData\\Local\\Temp\\ipykernel_1616\\2283081084.py:1: SettingWithCopyWarning: \n",
      "A value is trying to be set on a copy of a slice from a DataFrame.\n",
      "Try using .loc[row_indexer,col_indexer] = value instead\n",
      "\n",
      "See the caveats in the documentation: https://pandas.pydata.org/pandas-docs/stable/user_guide/indexing.html#returning-a-view-versus-a-copy\n",
      "  final_df[\"genres\"] = final_df[\"genres\"].apply(remove_spaces)\n"
     ]
    }
   ],
   "source": [
    "final_df[\"genres\"] = final_df[\"genres\"].apply(remove_spaces)"
   ]
  },
  {
   "cell_type": "code",
   "execution_count": 41,
   "id": "7e520300-cabf-4c1e-9982-0c816e8e1209",
   "metadata": {},
   "outputs": [
    {
     "data": {
      "text/html": [
       "<div>\n",
       "<style scoped>\n",
       "    .dataframe tbody tr th:only-of-type {\n",
       "        vertical-align: middle;\n",
       "    }\n",
       "\n",
       "    .dataframe tbody tr th {\n",
       "        vertical-align: top;\n",
       "    }\n",
       "\n",
       "    .dataframe thead th {\n",
       "        text-align: right;\n",
       "    }\n",
       "</style>\n",
       "<table border=\"1\" class=\"dataframe\">\n",
       "  <thead>\n",
       "    <tr style=\"text-align: right;\">\n",
       "      <th></th>\n",
       "      <th>original_title</th>\n",
       "      <th>genres</th>\n",
       "      <th>overview</th>\n",
       "      <th>spoken_languages</th>\n",
       "      <th>cast</th>\n",
       "      <th>crew</th>\n",
       "      <th>vote_average</th>\n",
       "    </tr>\n",
       "  </thead>\n",
       "  <tbody>\n",
       "    <tr>\n",
       "      <th>0</th>\n",
       "      <td>Avatar</td>\n",
       "      <td>[Action, Adventure, Fantasy, ScienceFiction]</td>\n",
       "      <td>[In, the, 22nd, century,, a, paraplegic, Marin...</td>\n",
       "      <td>[English, Español]</td>\n",
       "      <td>[SamWorthington, ZoeSaldana, SigourneyWeaver]</td>\n",
       "      <td>[StephenE.Rivkin, RickCarter, ChristopherBoyes]</td>\n",
       "      <td>7.2</td>\n",
       "    </tr>\n",
       "    <tr>\n",
       "      <th>1</th>\n",
       "      <td>Pirates of the Caribbean: At World's End</td>\n",
       "      <td>[Adventure, Fantasy, Action]</td>\n",
       "      <td>[Captain, Barbossa,, long, believed, to, be, d...</td>\n",
       "      <td>[English]</td>\n",
       "      <td>[JohnnyDepp, OrlandoBloom, KeiraKnightley]</td>\n",
       "      <td>[DariuszWolski, GoreVerbinski, JerryBruckheimer]</td>\n",
       "      <td>6.9</td>\n",
       "    </tr>\n",
       "    <tr>\n",
       "      <th>2</th>\n",
       "      <td>Spectre</td>\n",
       "      <td>[Action, Adventure, Crime]</td>\n",
       "      <td>[A, cryptic, message, from, Bond’s, past, send...</td>\n",
       "      <td>[Français, English, Español, Italiano, Deutsch]</td>\n",
       "      <td>[DanielCraig, ChristophWaltz, LéaSeydoux]</td>\n",
       "      <td>[ThomasNewman, SamMendes, AnnaPinnock]</td>\n",
       "      <td>6.3</td>\n",
       "    </tr>\n",
       "    <tr>\n",
       "      <th>3</th>\n",
       "      <td>The Dark Knight Rises</td>\n",
       "      <td>[Action, Crime, Drama, Thriller]</td>\n",
       "      <td>[Following, the, death, of, District, Attorney...</td>\n",
       "      <td>[English]</td>\n",
       "      <td>[ChristianBale, MichaelCaine, GaryOldman]</td>\n",
       "      <td>[HansZimmer, CharlesRoven, ChristopherNolan]</td>\n",
       "      <td>7.6</td>\n",
       "    </tr>\n",
       "    <tr>\n",
       "      <th>4</th>\n",
       "      <td>John Carter</td>\n",
       "      <td>[Action, Adventure, ScienceFiction]</td>\n",
       "      <td>[John, Carter, is, a, war-weary,, former, mili...</td>\n",
       "      <td>[English]</td>\n",
       "      <td>[TaylorKitsch, LynnCollins, SamanthaMorton]</td>\n",
       "      <td>[AndrewStanton, AndrewStanton, JohnLasseter]</td>\n",
       "      <td>6.1</td>\n",
       "    </tr>\n",
       "  </tbody>\n",
       "</table>\n",
       "</div>"
      ],
      "text/plain": [
       "                             original_title  \\\n",
       "0                                    Avatar   \n",
       "1  Pirates of the Caribbean: At World's End   \n",
       "2                                   Spectre   \n",
       "3                     The Dark Knight Rises   \n",
       "4                               John Carter   \n",
       "\n",
       "                                         genres  \\\n",
       "0  [Action, Adventure, Fantasy, ScienceFiction]   \n",
       "1                  [Adventure, Fantasy, Action]   \n",
       "2                    [Action, Adventure, Crime]   \n",
       "3              [Action, Crime, Drama, Thriller]   \n",
       "4           [Action, Adventure, ScienceFiction]   \n",
       "\n",
       "                                            overview  \\\n",
       "0  [In, the, 22nd, century,, a, paraplegic, Marin...   \n",
       "1  [Captain, Barbossa,, long, believed, to, be, d...   \n",
       "2  [A, cryptic, message, from, Bond’s, past, send...   \n",
       "3  [Following, the, death, of, District, Attorney...   \n",
       "4  [John, Carter, is, a, war-weary,, former, mili...   \n",
       "\n",
       "                                  spoken_languages  \\\n",
       "0                               [English, Español]   \n",
       "1                                        [English]   \n",
       "2  [Français, English, Español, Italiano, Deutsch]   \n",
       "3                                        [English]   \n",
       "4                                        [English]   \n",
       "\n",
       "                                            cast  \\\n",
       "0  [SamWorthington, ZoeSaldana, SigourneyWeaver]   \n",
       "1     [JohnnyDepp, OrlandoBloom, KeiraKnightley]   \n",
       "2      [DanielCraig, ChristophWaltz, LéaSeydoux]   \n",
       "3      [ChristianBale, MichaelCaine, GaryOldman]   \n",
       "4    [TaylorKitsch, LynnCollins, SamanthaMorton]   \n",
       "\n",
       "                                               crew  vote_average  \n",
       "0   [StephenE.Rivkin, RickCarter, ChristopherBoyes]           7.2  \n",
       "1  [DariuszWolski, GoreVerbinski, JerryBruckheimer]           6.9  \n",
       "2            [ThomasNewman, SamMendes, AnnaPinnock]           6.3  \n",
       "3      [HansZimmer, CharlesRoven, ChristopherNolan]           7.6  \n",
       "4      [AndrewStanton, AndrewStanton, JohnLasseter]           6.1  "
      ]
     },
     "execution_count": 41,
     "metadata": {},
     "output_type": "execute_result"
    }
   ],
   "source": [
    "final_df.head(5)"
   ]
  },
  {
   "cell_type": "code",
   "execution_count": 42,
   "id": "df1ba2cf-1a33-4652-b434-b566c095e494",
   "metadata": {},
   "outputs": [
    {
     "name": "stderr",
     "output_type": "stream",
     "text": [
      "C:\\Users\\sarve\\AppData\\Local\\Temp\\ipykernel_1616\\116132415.py:1: SettingWithCopyWarning: \n",
      "A value is trying to be set on a copy of a slice from a DataFrame.\n",
      "Try using .loc[row_indexer,col_indexer] = value instead\n",
      "\n",
      "See the caveats in the documentation: https://pandas.pydata.org/pandas-docs/stable/user_guide/indexing.html#returning-a-view-versus-a-copy\n",
      "  final_df['tags'] = final_df['genres'] + final_df['overview'] + final_df['spoken_languages'] + final_df['cast'] + final_df['crew']\n"
     ]
    }
   ],
   "source": [
    "final_df['tags'] = final_df['genres'] + final_df['overview'] + final_df['spoken_languages'] + final_df['cast'] + final_df['crew']"
   ]
  },
  {
   "cell_type": "code",
   "execution_count": 43,
   "id": "c8cac947-c5ab-42a5-bec0-9f510ef68ef3",
   "metadata": {},
   "outputs": [
    {
     "data": {
      "text/plain": [
       "['Action',\n",
       " 'Adventure',\n",
       " 'Fantasy',\n",
       " 'ScienceFiction',\n",
       " 'In',\n",
       " 'the',\n",
       " '22nd',\n",
       " 'century,',\n",
       " 'a',\n",
       " 'paraplegic',\n",
       " 'Marine',\n",
       " 'is',\n",
       " 'dispatched',\n",
       " 'to',\n",
       " 'the',\n",
       " 'moon',\n",
       " 'Pandora',\n",
       " 'on',\n",
       " 'a',\n",
       " 'unique',\n",
       " 'mission,',\n",
       " 'but',\n",
       " 'becomes',\n",
       " 'torn',\n",
       " 'between',\n",
       " 'following',\n",
       " 'orders',\n",
       " 'and',\n",
       " 'protecting',\n",
       " 'an',\n",
       " 'alien',\n",
       " 'civilization.',\n",
       " 'English',\n",
       " 'Español',\n",
       " 'SamWorthington',\n",
       " 'ZoeSaldana',\n",
       " 'SigourneyWeaver',\n",
       " 'StephenE.Rivkin',\n",
       " 'RickCarter',\n",
       " 'ChristopherBoyes']"
      ]
     },
     "execution_count": 43,
     "metadata": {},
     "output_type": "execute_result"
    }
   ],
   "source": [
    "final_df.loc[0]['tags']"
   ]
  },
  {
   "cell_type": "code",
   "execution_count": 44,
   "id": "f75f0c0d-35c9-4956-8dd1-93ad1c09edff",
   "metadata": {},
   "outputs": [],
   "source": [
    "movies_df = final_df[['original_title', 'vote_average', 'tags']]"
   ]
  },
  {
   "cell_type": "code",
   "execution_count": 45,
   "id": "ccf0e78f-3b50-40e4-87b1-4115efc1d6e1",
   "metadata": {},
   "outputs": [
    {
     "data": {
      "text/html": [
       "<div>\n",
       "<style scoped>\n",
       "    .dataframe tbody tr th:only-of-type {\n",
       "        vertical-align: middle;\n",
       "    }\n",
       "\n",
       "    .dataframe tbody tr th {\n",
       "        vertical-align: top;\n",
       "    }\n",
       "\n",
       "    .dataframe thead th {\n",
       "        text-align: right;\n",
       "    }\n",
       "</style>\n",
       "<table border=\"1\" class=\"dataframe\">\n",
       "  <thead>\n",
       "    <tr style=\"text-align: right;\">\n",
       "      <th></th>\n",
       "      <th>original_title</th>\n",
       "      <th>vote_average</th>\n",
       "      <th>tags</th>\n",
       "    </tr>\n",
       "  </thead>\n",
       "  <tbody>\n",
       "    <tr>\n",
       "      <th>0</th>\n",
       "      <td>Avatar</td>\n",
       "      <td>7.2</td>\n",
       "      <td>[Action, Adventure, Fantasy, ScienceFiction, I...</td>\n",
       "    </tr>\n",
       "    <tr>\n",
       "      <th>1</th>\n",
       "      <td>Pirates of the Caribbean: At World's End</td>\n",
       "      <td>6.9</td>\n",
       "      <td>[Adventure, Fantasy, Action, Captain, Barbossa...</td>\n",
       "    </tr>\n",
       "    <tr>\n",
       "      <th>2</th>\n",
       "      <td>Spectre</td>\n",
       "      <td>6.3</td>\n",
       "      <td>[Action, Adventure, Crime, A, cryptic, message...</td>\n",
       "    </tr>\n",
       "  </tbody>\n",
       "</table>\n",
       "</div>"
      ],
      "text/plain": [
       "                             original_title  vote_average  \\\n",
       "0                                    Avatar           7.2   \n",
       "1  Pirates of the Caribbean: At World's End           6.9   \n",
       "2                                   Spectre           6.3   \n",
       "\n",
       "                                                tags  \n",
       "0  [Action, Adventure, Fantasy, ScienceFiction, I...  \n",
       "1  [Adventure, Fantasy, Action, Captain, Barbossa...  \n",
       "2  [Action, Adventure, Crime, A, cryptic, message...  "
      ]
     },
     "execution_count": 45,
     "metadata": {},
     "output_type": "execute_result"
    }
   ],
   "source": [
    "movies_df.head(3)"
   ]
  },
  {
   "cell_type": "code",
   "execution_count": 46,
   "id": "e8a20894-01b3-4f12-bc2b-97329832966d",
   "metadata": {},
   "outputs": [
    {
     "name": "stderr",
     "output_type": "stream",
     "text": [
      "C:\\Users\\sarve\\AppData\\Local\\Temp\\ipykernel_1616\\627449117.py:2: SettingWithCopyWarning: \n",
      "A value is trying to be set on a copy of a slice from a DataFrame.\n",
      "Try using .loc[row_indexer,col_indexer] = value instead\n",
      "\n",
      "See the caveats in the documentation: https://pandas.pydata.org/pandas-docs/stable/user_guide/indexing.html#returning-a-view-versus-a-copy\n",
      "  movies_df['tags'] = movies_df['tags'].apply(lambda x : \" \".join(x))\n"
     ]
    }
   ],
   "source": [
    "# converting the list into strings in the tags\n",
    "movies_df['tags'] = movies_df['tags'].apply(lambda x : \" \".join(x))"
   ]
  },
  {
   "cell_type": "code",
   "execution_count": 47,
   "id": "030079bd-96a6-48b1-aec4-a00fb055960b",
   "metadata": {},
   "outputs": [
    {
     "data": {
      "text/plain": [
       "'Action Adventure Crime A cryptic message from Bond’s past sends him on a trail to uncover a sinister organization. While M battles political forces to keep the secret service alive, Bond peels back the layers of deceit to reveal the terrible truth behind SPECTRE. Français English Español Italiano Deutsch DanielCraig ChristophWaltz LéaSeydoux ThomasNewman SamMendes AnnaPinnock'"
      ]
     },
     "execution_count": 47,
     "metadata": {},
     "output_type": "execute_result"
    }
   ],
   "source": [
    "movies_df.loc[2]['tags']"
   ]
  },
  {
   "cell_type": "code",
   "execution_count": 48,
   "id": "ca1242bd-5005-48da-8902-20a3844e61db",
   "metadata": {},
   "outputs": [
    {
     "name": "stderr",
     "output_type": "stream",
     "text": [
      "C:\\Users\\sarve\\AppData\\Local\\Temp\\ipykernel_1616\\3422350439.py:1: SettingWithCopyWarning: \n",
      "A value is trying to be set on a copy of a slice from a DataFrame.\n",
      "Try using .loc[row_indexer,col_indexer] = value instead\n",
      "\n",
      "See the caveats in the documentation: https://pandas.pydata.org/pandas-docs/stable/user_guide/indexing.html#returning-a-view-versus-a-copy\n",
      "  movies_df['tags'] = movies_df['tags'].apply(lambda x : x.lower())\n"
     ]
    }
   ],
   "source": [
    "movies_df['tags'] = movies_df['tags'].apply(lambda x : x.lower())"
   ]
  },
  {
   "cell_type": "code",
   "execution_count": 49,
   "id": "15eab372-cd9f-458d-9703-dc34b0eb02be",
   "metadata": {},
   "outputs": [
    {
     "data": {
      "text/plain": [
       "' the counter vectorizer combines all the tags and make an big composition or big paragraph'"
      ]
     },
     "execution_count": 49,
     "metadata": {},
     "output_type": "execute_result"
    }
   ],
   "source": [
    "# completed all the data pre processing steps and now we need to vectorize the data we use \"counter vectorizer\"\n",
    "\"\"\" the counter vectorizer combines all the tags and make an big composition or big paragraph\"\"\""
   ]
  },
  {
   "cell_type": "code",
   "execution_count": 50,
   "id": "05c586d3-97b7-4021-9f67-e8a955949b4b",
   "metadata": {},
   "outputs": [
    {
     "name": "stdout",
     "output_type": "stream",
     "text": [
      "Requirement already satisfied: nltk in c:\\users\\sarve\\venv\\lib\\site-packages (3.9.1)\n",
      "Requirement already satisfied: click in c:\\users\\sarve\\venv\\lib\\site-packages (from nltk) (8.2.1)\n",
      "Requirement already satisfied: joblib in c:\\users\\sarve\\venv\\lib\\site-packages (from nltk) (1.5.1)\n",
      "Requirement already satisfied: regex>=2021.8.3 in c:\\users\\sarve\\venv\\lib\\site-packages (from nltk) (2024.11.6)\n",
      "Requirement already satisfied: tqdm in c:\\users\\sarve\\venv\\lib\\site-packages (from nltk) (4.67.1)\n",
      "Requirement already satisfied: colorama in c:\\users\\sarve\\venv\\lib\\site-packages (from click->nltk) (0.4.6)\n"
     ]
    }
   ],
   "source": [
    "! pip install nltk"
   ]
  },
  {
   "cell_type": "code",
   "execution_count": 51,
   "id": "2f2e9ca5-164f-4fb9-b30b-4b8325ac265a",
   "metadata": {},
   "outputs": [],
   "source": [
    "import nltk\n",
    "from nltk.stem import PorterStemmer"
   ]
  },
  {
   "cell_type": "code",
   "execution_count": 52,
   "id": "8b3bee2c-00b3-4eb6-8762-8377226a8b04",
   "metadata": {},
   "outputs": [],
   "source": [
    "ps = PorterStemmer()"
   ]
  },
  {
   "cell_type": "code",
   "execution_count": 53,
   "id": "a5157be3-baac-492c-83d4-cbba75ab11b2",
   "metadata": {},
   "outputs": [],
   "source": [
    "def stem(value):\n",
    "    list1 = []\n",
    "    for i in value.split():\n",
    "        list1.append(ps.stem(i))\n",
    "    return \" \".join(list1)"
   ]
  },
  {
   "cell_type": "code",
   "execution_count": 54,
   "id": "de077f8d-40b4-4b07-86a6-08c43f93fde1",
   "metadata": {},
   "outputs": [
    {
     "name": "stderr",
     "output_type": "stream",
     "text": [
      "C:\\Users\\sarve\\AppData\\Local\\Temp\\ipykernel_1616\\2881018542.py:1: SettingWithCopyWarning: \n",
      "A value is trying to be set on a copy of a slice from a DataFrame.\n",
      "Try using .loc[row_indexer,col_indexer] = value instead\n",
      "\n",
      "See the caveats in the documentation: https://pandas.pydata.org/pandas-docs/stable/user_guide/indexing.html#returning-a-view-versus-a-copy\n",
      "  movies_df['tags'] = movies_df['tags'].apply(stem)\n"
     ]
    }
   ],
   "source": [
    "movies_df['tags'] = movies_df['tags'].apply(stem)"
   ]
  },
  {
   "cell_type": "code",
   "execution_count": 55,
   "id": "c92e1589-b768-4234-8e4c-2f499978bdfc",
   "metadata": {},
   "outputs": [
    {
     "data": {
      "text/plain": [
       "\"action adventur fantasi peter parker is an outcast high schooler abandon by hi parent as a boy, leav him to be rais by hi uncl ben and aunt may. like most teenagers, peter is tri to figur out who he is and how he got to be the person he is today. as peter discov a mysteri briefcas that belong to hi father, he begin a quest to understand hi parents' disappear – lead him directli to oscorp and the lab of dr. curt connors, hi father' former partner. as spider-man is set on a collis cours with connors' alter ego, the lizard, peter will make life-alt choic to use hi power and shape hi destini to becom a hero. english andrewgarfield emmaston rhysifan francinemaisl johnschwartzman pietroscalia\""
      ]
     },
     "execution_count": 55,
     "metadata": {},
     "output_type": "execute_result"
    }
   ],
   "source": [
    "movies_df.iloc[20]['tags']"
   ]
  },
  {
   "cell_type": "code",
   "execution_count": 56,
   "id": "ca8f6aa4-d36f-48c2-a5ef-2ae935fcf10b",
   "metadata": {},
   "outputs": [],
   "source": [
    "from sklearn.feature_extraction.text import CountVectorizer\n",
    "cv = CountVectorizer(max_features=5000, stop_words=\"english\")"
   ]
  },
  {
   "cell_type": "code",
   "execution_count": 57,
   "id": "f1a5fb35-92d8-4954-9983-d842509340eb",
   "metadata": {},
   "outputs": [],
   "source": [
    "vector = cv.fit_transform(movies_df['tags']).toarray()"
   ]
  },
  {
   "cell_type": "code",
   "execution_count": 58,
   "id": "d1a3efea-d385-4175-9ba9-25e265a9c842",
   "metadata": {},
   "outputs": [
    {
     "data": {
      "text/plain": [
       "array([[0, 0, 0, ..., 0, 0, 0],\n",
       "       [0, 0, 0, ..., 0, 0, 0],\n",
       "       [0, 0, 0, ..., 0, 0, 0],\n",
       "       ...,\n",
       "       [0, 0, 0, ..., 0, 0, 0],\n",
       "       [0, 0, 0, ..., 0, 0, 0],\n",
       "       [0, 0, 0, ..., 0, 0, 0]], dtype=int64)"
      ]
     },
     "execution_count": 58,
     "metadata": {},
     "output_type": "execute_result"
    }
   ],
   "source": [
    "vector"
   ]
  },
  {
   "cell_type": "code",
   "execution_count": 59,
   "id": "07017a7c-65f3-41a6-af95-7f207e1eff3b",
   "metadata": {},
   "outputs": [
    {
     "data": {
      "text/plain": [
       "(4803, 5000)"
      ]
     },
     "execution_count": 59,
     "metadata": {},
     "output_type": "execute_result"
    }
   ],
   "source": [
    "vector.shape"
   ]
  },
  {
   "cell_type": "code",
   "execution_count": 60,
   "id": "f97f9617-78ea-40c1-95a8-b58ad3f820b1",
   "metadata": {},
   "outputs": [],
   "source": [
    "from sklearn.metrics.pairwise import cosine_similarity\n",
    "similarity = cosine_similarity(vector)"
   ]
  },
  {
   "cell_type": "code",
   "execution_count": 61,
   "id": "c66bd14a-accb-4880-82fe-5b51985c2cd1",
   "metadata": {},
   "outputs": [
    {
     "data": {
      "text/plain": [
       "array([[1.        , 0.16329932, 0.13719887, ..., 0.02948839, 0.02948839,\n",
       "        0.03202563],\n",
       "       [0.16329932, 1.        , 0.10502101, ..., 0.06019293, 0.03009646,\n",
       "        0.06537205],\n",
       "       [0.13719887, 0.10502101, 1.        , ..., 0.05057217, 0.02528609,\n",
       "        0.02746175],\n",
       "       ...,\n",
       "       [0.02948839, 0.06019293, 0.05057217, ..., 1.        , 0.06521739,\n",
       "        0.04721922],\n",
       "       [0.02948839, 0.03009646, 0.02528609, ..., 0.06521739, 1.        ,\n",
       "        0.11804804],\n",
       "       [0.03202563, 0.06537205, 0.02746175, ..., 0.04721922, 0.11804804,\n",
       "        1.        ]])"
      ]
     },
     "execution_count": 61,
     "metadata": {},
     "output_type": "execute_result"
    }
   ],
   "source": [
    "similarity"
   ]
  },
  {
   "cell_type": "code",
   "execution_count": 62,
   "id": "8e802ed6-70bf-403c-b617-3dcc1ca988e1",
   "metadata": {},
   "outputs": [
    {
     "data": {
      "text/plain": [
       "(4803, 4803)"
      ]
     },
     "execution_count": 62,
     "metadata": {},
     "output_type": "execute_result"
    }
   ],
   "source": [
    "similarity.shape"
   ]
  },
  {
   "cell_type": "code",
   "execution_count": 63,
   "id": "383a9ce6-caae-488d-88c1-321da8c6a8e9",
   "metadata": {},
   "outputs": [
    {
     "data": {
      "text/html": [
       "<div>\n",
       "<style scoped>\n",
       "    .dataframe tbody tr th:only-of-type {\n",
       "        vertical-align: middle;\n",
       "    }\n",
       "\n",
       "    .dataframe tbody tr th {\n",
       "        vertical-align: top;\n",
       "    }\n",
       "\n",
       "    .dataframe thead th {\n",
       "        text-align: right;\n",
       "    }\n",
       "</style>\n",
       "<table border=\"1\" class=\"dataframe\">\n",
       "  <thead>\n",
       "    <tr style=\"text-align: right;\">\n",
       "      <th></th>\n",
       "      <th>original_title</th>\n",
       "      <th>vote_average</th>\n",
       "      <th>tags</th>\n",
       "    </tr>\n",
       "  </thead>\n",
       "  <tbody>\n",
       "    <tr>\n",
       "      <th>2</th>\n",
       "      <td>Spectre</td>\n",
       "      <td>6.3</td>\n",
       "      <td>action adventur crime a cryptic messag from bo...</td>\n",
       "    </tr>\n",
       "  </tbody>\n",
       "</table>\n",
       "</div>"
      ],
      "text/plain": [
       "  original_title  vote_average  \\\n",
       "2        Spectre           6.3   \n",
       "\n",
       "                                                tags  \n",
       "2  action adventur crime a cryptic messag from bo...  "
      ]
     },
     "execution_count": 63,
     "metadata": {},
     "output_type": "execute_result"
    }
   ],
   "source": [
    "movies_df[movies_df['original_title'] == 'Spectre']"
   ]
  },
  {
   "cell_type": "code",
   "execution_count": 64,
   "id": "14066caa-0938-45c6-8aef-146dfcaa7113",
   "metadata": {},
   "outputs": [],
   "source": [
    "def recommendation(movie_title):\n",
    "    titles = final_df['original_title'].str.lower()\n",
    "\n",
    "    if movie_title.lower() not in titles.values:\n",
    "        print(f\"'{movie_title}' not found. Did you mean:\")\n",
    "        matches = final_df[titles.str.contains(movie_title.lower(), na=False)]['original_title']\n",
    "        for title in matches.head(5):\n",
    "            print(\"  -\", title)\n",
    "        return\n",
    "\n",
    "    movie_index = final_df[titles == movie_title.lower()].index[0]\n",
    "    movie_list = sorted(list(enumerate(similarity[movie_index])), reverse=True, key=lambda x: x[1])\n",
    "\n",
    "    print(f\"\\nTop 5 movies similar to '{movie_title}':\\n\")\n",
    "    for movie in movie_list[0:5]:\n",
    "        print(final_df.iloc[movie[0]].original_title)\n"
   ]
  },
  {
   "cell_type": "code",
   "execution_count": 65,
   "id": "5ebfd3a4-0031-45eb-be0b-14181d024eae",
   "metadata": {},
   "outputs": [],
   "source": [
    "import string\n",
    "import difflib\n",
    "\n",
    "\n",
    "def suggest(movie_title):\n",
    "    translator = str.maketrans(\"\",\"\", string.punctuation)\n",
    "\n",
    "    # removing the special characters(!,-,@, etc)\n",
    "    #cleaned title in the final_df\n",
    "    title = final_df['original_title'].str.lower()\n",
    "    cleaned_title = title.str.translate(translator)\n",
    "\n",
    "    #cleaned user input\n",
    "    cleaned_input = movie_title.lower().translate(translator)\n",
    "    \n",
    "\n",
    "    matches = difflib.get_close_matches(cleaned_input, cleaned_title.values, n = 2,cutoff=0.5)\n",
    "\n",
    "    if not matches:\n",
    "        print(f\"{movie_title} not found\")\n",
    "        return\n",
    "\n",
    "    best_match = matches[0]\n",
    "\n",
    "    movie_index = cleaned_title[cleaned_title == best_match].index[0]\n",
    "\n",
    "    movie_list = sorted(\n",
    "        list(enumerate(similarity[movie_index])),\n",
    "                       key = lambda x : x[1],\n",
    "                       reverse = True\n",
    "                      \n",
    "            )\n",
    "\n",
    "    print(f\"Top 5 Similar Movies\")\n",
    "    for movie in movie_list[1:6]:\n",
    "        similar_movies = final_df.iloc[movie[0]]['original_title']\n",
    "        print(similar_movies)"
   ]
  },
  {
   "cell_type": "code",
   "execution_count": 66,
   "id": "c6246927-f128-4e39-963c-6aa2349370d5",
   "metadata": {},
   "outputs": [
    {
     "name": "stdout",
     "output_type": "stream",
     "text": [
      "Top 5 Similar Movies\n",
      "The Specials\n",
      "The Helix... Loaded\n",
      "Detention\n",
      "U.F.O.\n",
      "Extreme Ops\n"
     ]
    }
   ],
   "source": [
    "suggest(\"timeline\")"
   ]
  },
  {
   "cell_type": "code",
   "execution_count": 67,
   "id": "5fe5839a-a9c5-491f-b7d1-c3d40d21a1ab",
   "metadata": {},
   "outputs": [
    {
     "data": {
      "text/plain": [
       "'movie_index = final_df[final_df[\\'original_title\\'] == movie_title].index[0]\\n    movie_list = []\\n    \\n    for ids, simi in enumerate(similarity[movie_index]):\\n        movie_list.append((ids, simi))\\n\\n    movie_list.sort(key=lambda x : x[1], reverse = True)\\n    \\n    print(f\"top 5 movies related to {movie_title}\")\\n    for i in movie_list[1:6]:\\n        movie_title = final_df.iloc[i[0]][\\'original_title\\']\\n        print(movie_title)'"
      ]
     },
     "execution_count": 67,
     "metadata": {},
     "output_type": "execute_result"
    }
   ],
   "source": [
    "\"\"\"movie_index = final_df[final_df['original_title'] == movie_title].index[0]\n",
    "    movie_list = []\n",
    "    \n",
    "    for ids, simi in enumerate(similarity[movie_index]):\n",
    "        movie_list.append((ids, simi))\n",
    "\n",
    "    movie_list.sort(key=lambda x : x[1], reverse = True)\n",
    "    \n",
    "    print(f\"top 5 movies related to {movie_title}\")\n",
    "    for i in movie_list[1:6]:\n",
    "        movie_title = final_df.iloc[i[0]]['original_title']\n",
    "        print(movie_title)\"\"\""
   ]
  },
  {
   "cell_type": "code",
   "execution_count": 68,
   "id": "db0f5fb4",
   "metadata": {},
   "outputs": [],
   "source": [
    "cv = CountVectorizer(max_features=5000, stop_words=\"english\")\n"
   ]
  },
  {
   "cell_type": "code",
   "execution_count": 69,
   "id": "cfc30827",
   "metadata": {},
   "outputs": [],
   "source": [
    "import pickle\n",
    "# save the vectorizer\n",
    "pickle.dump(cv, open(\"vectorizer.pkl\", \"wb\"))  "
   ]
  },
  {
   "cell_type": "code",
   "execution_count": 72,
   "id": "57d083a5",
   "metadata": {},
   "outputs": [],
   "source": [
    "pickle.dump(similarity, open('similarity.pkl', 'wb'))\n"
   ]
  },
  {
   "cell_type": "code",
   "execution_count": 71,
   "id": "d47737fd",
   "metadata": {},
   "outputs": [],
   "source": [
    "pickle.dump(final_df, open(\"movies.pkl\", \"wb\"))"
   ]
  },
  {
   "cell_type": "code",
   "execution_count": null,
   "id": "ae47ebd4",
   "metadata": {},
   "outputs": [],
   "source": []
  }
 ],
 "metadata": {
  "kernelspec": {
   "display_name": "Python 3 (ipykernel)",
   "language": "python",
   "name": "python3"
  },
  "language_info": {
   "codemirror_mode": {
    "name": "ipython",
    "version": 3
   },
   "file_extension": ".py",
   "mimetype": "text/x-python",
   "name": "python",
   "nbconvert_exporter": "python",
   "pygments_lexer": "ipython3",
   "version": "3.10.11"
  }
 },
 "nbformat": 4,
 "nbformat_minor": 5
}
